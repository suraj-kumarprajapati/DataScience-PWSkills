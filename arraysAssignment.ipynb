{
  "nbformat": 4,
  "nbformat_minor": 0,
  "metadata": {
    "colab": {
      "provenance": []
    },
    "kernelspec": {
      "name": "python3",
      "display_name": "Python 3"
    },
    "language_info": {
      "name": "python"
    }
  },
  "cells": [
    {
      "cell_type": "markdown",
      "source": [
        "1. Given an array, check if it contains any duplicates or not.\n",
        "arr = [1, 2, 4, 2, 5, 9]\n",
        "Output = True\n",
        "\n",
        "\n"
      ],
      "metadata": {
        "id": "NSDbruIFVZLE"
      }
    },
    {
      "cell_type": "code",
      "source": [
        "def containsDuplicate(arr):\n",
        "  n = len(arr)\n",
        "  for i in range(n-1):\n",
        "    for j in range(i+1, n):\n",
        "      if arr[i] == arr[j]:\n",
        "        return True\n",
        "  return False"
      ],
      "metadata": {
        "id": "_EeXDxieVaBz"
      },
      "execution_count": null,
      "outputs": []
    },
    {
      "cell_type": "code",
      "source": [
        "arr = [1, 2, 4, 10, 5, 9]\n",
        "containsDuplicate(arr)"
      ],
      "metadata": {
        "colab": {
          "base_uri": "https://localhost:8080/"
        },
        "id": "S683QTakWHeR",
        "outputId": "005f785c-dc57-4072-991c-1cec1ae5f2ff"
      },
      "execution_count": null,
      "outputs": [
        {
          "output_type": "execute_result",
          "data": {
            "text/plain": [
              "False"
            ]
          },
          "metadata": {},
          "execution_count": 4
        }
      ]
    },
    {
      "cell_type": "code",
      "source": [
        "def containsDuplicateOptimized(arr):\n",
        "  n = len(arr)\n",
        "  arr.sort()  # sort the array first\n",
        "  for i in range(n-1):\n",
        "    if arr[i]==arr[i+1]:\n",
        "      return True\n",
        "  return False"
      ],
      "metadata": {
        "id": "hVrGK93rWLm9"
      },
      "execution_count": null,
      "outputs": []
    },
    {
      "cell_type": "code",
      "source": [
        "arr = [1, 2, 4, 10, 5, 9, 10]\n",
        "containsDuplicateOptimized(arr)"
      ],
      "metadata": {
        "colab": {
          "base_uri": "https://localhost:8080/"
        },
        "id": "4pwxmFibXdUO",
        "outputId": "3e88cd40-6131-451d-cb8d-931b3d889ad3"
      },
      "execution_count": null,
      "outputs": [
        {
          "output_type": "execute_result",
          "data": {
            "text/plain": [
              "True"
            ]
          },
          "metadata": {},
          "execution_count": 8
        }
      ]
    },
    {
      "cell_type": "markdown",
      "source": [
        "2. Given an array and an integer k, rotate the array to the right by k steps.\n",
        "arr = [1, 2, 3, 4, 5, 6, 7] k = 3\n",
        "Output = [5, 6, 7, 1, 2, 3, 4]\n",
        "\n",
        "---\n",
        "\n",
        "\n",
        "\n",
        "---\n",
        "\n"
      ],
      "metadata": {
        "id": "320FiPDOXqIQ"
      }
    },
    {
      "cell_type": "code",
      "source": [
        "def rotateArray(arr, k):\n",
        "  n = len(arr)  # length of the array\n",
        "  k = k%n\n",
        "  # rotating array k times\n",
        "  for i in range(k):\n",
        "    l = arr[n-1] # last element of the array after each rotation\n",
        "    # swith the array elements by one position to the right\n",
        "    for j in range(n-1, 0, -1):\n",
        "      arr[j] = arr[j-1]\n",
        "    # assign the last element to the first index of the array\n",
        "    arr[0] = l\n",
        "    # return the result\n",
        "  return arr\n",
        "\n",
        "\n",
        "\n"
      ],
      "metadata": {
        "id": "ygxJzFecXgud"
      },
      "execution_count": null,
      "outputs": []
    },
    {
      "cell_type": "code",
      "source": [
        "arr = [1, 2, 3, 4, 5, 6, 7]\n",
        "k = 3\n",
        "rotateArray(arr, k)"
      ],
      "metadata": {
        "colab": {
          "base_uri": "https://localhost:8080/"
        },
        "id": "oVBJIka6abYg",
        "outputId": "40f8d4fd-95df-4b4c-c9a1-e9ef22013c69"
      },
      "execution_count": null,
      "outputs": [
        {
          "output_type": "execute_result",
          "data": {
            "text/plain": [
              "[5, 6, 7, 1, 2, 3, 4]"
            ]
          },
          "metadata": {},
          "execution_count": 20
        }
      ]
    },
    {
      "cell_type": "code",
      "source": [
        "def rotateArray2(arr, k):\n",
        "  n = len(arr)\n",
        "  k = k%n\n",
        "\n",
        "  # reverse the entire array\n",
        "  arr.reverse()\n",
        "\n",
        "  # reverse the first k elements\n",
        "  arr[:k] = reversed(arr[:k])\n",
        "\n",
        "  # reverse the remaining k elements\n",
        "  arr[k:]=reversed(arr[k:])\n",
        "\n",
        "  return arr"
      ],
      "metadata": {
        "id": "Gd_alc_2ail7"
      },
      "execution_count": null,
      "outputs": []
    },
    {
      "cell_type": "code",
      "source": [
        "arr = [1, 2, 3, 4, 5, 6, 7]\n",
        "k = 3\n",
        "rotateArray2(arr, k)"
      ],
      "metadata": {
        "colab": {
          "base_uri": "https://localhost:8080/"
        },
        "id": "Cn_V2ESVcDuh",
        "outputId": "3e9bdb77-3767-4929-8aa0-91dc2ed93a2f"
      },
      "execution_count": null,
      "outputs": [
        {
          "output_type": "execute_result",
          "data": {
            "text/plain": [
              "[5, 6, 7, 1, 2, 3, 4]"
            ]
          },
          "metadata": {},
          "execution_count": 22
        }
      ]
    },
    {
      "cell_type": "markdown",
      "source": [
        "3. Reverse the given array in-place, means without using any extra data structure.\n",
        "arr = [2, 4, 5, 7, 9, 12]\n",
        "Output = [12, 9, 7, 5, 4, 2]"
      ],
      "metadata": {
        "id": "7b3LI_gScw-3"
      }
    },
    {
      "cell_type": "code",
      "source": [
        "def reverseArray(arr):\n",
        "  n = len(arr)\n",
        "  i, j = 0, n-1\n",
        "\n",
        "  while(i<=j):\n",
        "    arr[i], arr[j] = arr[j], arr[i]\n",
        "    i+=1\n",
        "    j-=1\n",
        "\n",
        "  return arr\n"
      ],
      "metadata": {
        "id": "Ytbx4lyfcHxr"
      },
      "execution_count": null,
      "outputs": []
    },
    {
      "cell_type": "code",
      "source": [
        "arr = [2, 4, 5, 7, 9, 12]\n",
        "reverseArray(arr)"
      ],
      "metadata": {
        "colab": {
          "base_uri": "https://localhost:8080/"
        },
        "id": "_tvfiT46daZU",
        "outputId": "61db1285-a119-4c80-aa6c-bd380fdc2df1"
      },
      "execution_count": null,
      "outputs": [
        {
          "output_type": "execute_result",
          "data": {
            "text/plain": [
              "[12, 9, 7, 5, 4, 2]"
            ]
          },
          "metadata": {},
          "execution_count": 29
        }
      ]
    },
    {
      "cell_type": "markdown",
      "source": [
        "4. Given an array of integers, find the maximum element in an array\n",
        "arr = [10, 5, 20, 8, 15]\n",
        "Output = 20"
      ],
      "metadata": {
        "id": "Y-4XlzPNeLIg"
      }
    },
    {
      "cell_type": "code",
      "source": [
        "def findMaximum(arr):\n",
        "  n = len(arr)\n",
        "  max = -9999999999999999999999999 # assign minimum no. to max\n",
        "  for i in range(n):\n",
        "    if arr[i]>max:\n",
        "      max = arr[i]\n",
        "\n",
        "  return max"
      ],
      "metadata": {
        "id": "EOZ3uwG_djvN"
      },
      "execution_count": null,
      "outputs": []
    },
    {
      "cell_type": "code",
      "source": [
        "arr = [10, 5, 20, 8, 15]\n",
        "findMaximum(arr)"
      ],
      "metadata": {
        "colab": {
          "base_uri": "https://localhost:8080/"
        },
        "id": "RDAsgTv9e5kN",
        "outputId": "2f3b0e7e-964d-4def-e61f-0490047b9574"
      },
      "execution_count": null,
      "outputs": [
        {
          "output_type": "execute_result",
          "data": {
            "text/plain": [
              "20"
            ]
          },
          "metadata": {},
          "execution_count": 31
        }
      ]
    },
    {
      "cell_type": "markdown",
      "source": [
        "5. Given a sorted array, remove the duplicate element without using any extra data structure.\n",
        "arr = [1, 1, 2, 2, 2, 3, 3, 4, 4, 4, 5, 5]\n",
        "Output = [1, 2, 3, 4, 5]"
      ],
      "metadata": {
        "id": "re6Yn559fUBK"
      }
    },
    {
      "cell_type": "code",
      "source": [
        "def removeDuplicates(arr):\n",
        "  n = len(arr)\n",
        "  j=0\n",
        "  for i in range(n-1):\n",
        "    if arr[i] != arr[i+1]:\n",
        "      arr[j] = arr[i]\n",
        "      j+=1\n",
        "\n",
        "  arr[j] = arr[n-1]\n",
        "  j+=1\n",
        "  return arr[:j]"
      ],
      "metadata": {
        "id": "y8yxVZyJe_as"
      },
      "execution_count": 5,
      "outputs": []
    },
    {
      "cell_type": "code",
      "source": [
        "arr = [1, 1, 2, 2, 2, 3, 3, 4, 4, 4, 5, 5]\n",
        "removeDuplicates(arr)"
      ],
      "metadata": {
        "colab": {
          "base_uri": "https://localhost:8080/"
        },
        "id": "b5yapOClhhoR",
        "outputId": "db932946-4dd5-4156-f582-01f44b0c9479"
      },
      "execution_count": 6,
      "outputs": [
        {
          "output_type": "execute_result",
          "data": {
            "text/plain": [
              "[1, 2, 3, 4, 5]"
            ]
          },
          "metadata": {},
          "execution_count": 6
        }
      ]
    },
    {
      "cell_type": "code",
      "source": [],
      "metadata": {
        "id": "Wqgx6PWChvxm"
      },
      "execution_count": null,
      "outputs": []
    }
  ]
}