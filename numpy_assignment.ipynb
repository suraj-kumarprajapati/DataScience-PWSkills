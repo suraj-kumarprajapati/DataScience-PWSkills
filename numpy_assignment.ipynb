{
 "cells": [
  {
   "cell_type": "markdown",
   "id": "89e720b7-87e2-4bbb-8726-927f33e56a81",
   "metadata": {},
   "source": [
    "# Numpy Assignment"
   ]
  },
  {
   "cell_type": "markdown",
   "id": "25a30c59-4d59-42ca-8c0a-116a133e1036",
   "metadata": {},
   "source": [
    "1.    What is a Python library? Why do we use Python libraries?\n",
    "\n",
    "Ans : Python Library is a collection of functions that by default comes with python compiler. We use python libraries to make developers life easier to by reducing the no. of lines of code and redudancy problems. \n"
   ]
  },
  {
   "cell_type": "markdown",
   "id": "1db984c3-a27b-418d-b542-ccbfc6b63e17",
   "metadata": {},
   "source": [
    "2. What is the difference between Numpy array and List?\n",
    "\n",
    "Ans : In list, we store heterogeous data in discrete memory locations and collection of those memory references are stored in a list. On the other hand, in numpy array all the homogenous data is stored at one memory location in linear fashion. Just by knowing the first index of an array, we can access all the elements of the array. Same is not true for list. Operations can be done faster in array as compared to list. "
   ]
  },
  {
   "cell_type": "markdown",
   "id": "d91ae661-f56c-4181-aacf-0c56f4bb8a63",
   "metadata": {},
   "source": [
    "3. Find the shape, size and dimension of the following array?\n",
    "[[1, 2, 3, 4],\n",
    "[5, 6, 7, 8],\n",
    "[9, 10, 11, 12]]"
   ]
  },
  {
   "cell_type": "code",
   "execution_count": 1,
   "id": "a40332cd-ea6f-4d80-8805-9ec28c4b2e03",
   "metadata": {},
   "outputs": [],
   "source": [
    "import numpy as np"
   ]
  },
  {
   "cell_type": "code",
   "execution_count": 2,
   "id": "d515d544-43e0-44f6-a736-88d6f248086f",
   "metadata": {},
   "outputs": [
    {
     "name": "stdout",
     "output_type": "stream",
     "text": [
      "(3, 4)\n",
      "12\n",
      "2\n"
     ]
    }
   ],
   "source": [
    "arr = np.array([[1, 2, 3, 4], [5, 6, 7, 8], [9, 10, 11, 12]])\n",
    "print(arr.shape)\n",
    "print(arr.size)\n",
    "print(arr.ndim)"
   ]
  },
  {
   "cell_type": "markdown",
   "id": "b7c9982d-1a50-4588-aab0-f45c9e8267d8",
   "metadata": {},
   "source": [
    "4. Write python code to access the first row of the following array?\n",
    "[[1, 2, 3, 4],\n",
    "[5, 6, 7, 8],\n",
    "[9, 10, 11, 12]]"
   ]
  },
  {
   "cell_type": "code",
   "execution_count": 3,
   "id": "e1ff90fd-9f5d-4a47-8e91-1f8ed5e91641",
   "metadata": {},
   "outputs": [
    {
     "data": {
      "text/plain": [
       "array([1, 2, 3, 4])"
      ]
     },
     "execution_count": 3,
     "metadata": {},
     "output_type": "execute_result"
    }
   ],
   "source": [
    "arr1 = np.array( [[1, 2, 3, 4],[5, 6, 7, 8], [9, 10, 11, 12]])\n",
    "arr1[0]\n"
   ]
  },
  {
   "cell_type": "markdown",
   "id": "040a5d7e-e4b5-456d-b4f7-ddb09b59a1f9",
   "metadata": {},
   "source": [
    "5. How do you access the element at the third row and fourth column from the given numpy array?\n",
    "[[1, 2, 3, 4],\n",
    "[5, 6, 7, 8],\n",
    "[9, 10, 11, 12]]"
   ]
  },
  {
   "cell_type": "code",
   "execution_count": 4,
   "id": "64ded88e-131f-4ec2-a85d-6e3069069391",
   "metadata": {},
   "outputs": [
    {
     "data": {
      "text/plain": [
       "12"
      ]
     },
     "execution_count": 4,
     "metadata": {},
     "output_type": "execute_result"
    }
   ],
   "source": [
    "arr2 = np.array([[1, 2, 3, 4], [5, 6, 7, 8], [9, 10, 11, 12]])\n",
    "arr2[2, 3]"
   ]
  },
  {
   "cell_type": "markdown",
   "id": "9d2194b9-6c2a-4d90-b9f4-03ea91eccf5a",
   "metadata": {},
   "source": [
    "6. Write code to extract all odd-indexed elements from the given numpy array?\n",
    "[[1, 2, 3, 4],\n",
    "[5, 6, 7, 8],\n",
    "[9, 10, 11, 12]]"
   ]
  },
  {
   "cell_type": "code",
   "execution_count": 71,
   "id": "ec72ce13-ce51-4abd-91d0-2234640d5a16",
   "metadata": {},
   "outputs": [
    {
     "data": {
      "text/plain": [
       "array([[ 2,  4],\n",
       "       [ 6,  8],\n",
       "       [10, 12]])"
      ]
     },
     "execution_count": 71,
     "metadata": {},
     "output_type": "execute_result"
    }
   ],
   "source": [
    "arr =  np.array([[1, 2, 3, 4], [5, 6, 7, 8], [9, 10, 11, 12]])\n",
    "arr[:, 1::2]"
   ]
  },
  {
   "cell_type": "markdown",
   "id": "07a9ec68-14b6-44a0-b845-4e93b2ee2ee5",
   "metadata": {},
   "source": [
    "7. How can you generate a random 3x3 matrix with values between 0 and 1?"
   ]
  },
  {
   "cell_type": "code",
   "execution_count": 5,
   "id": "f55d0584-4f79-4c94-8603-87e660d54e4d",
   "metadata": {},
   "outputs": [],
   "source": [
    "arr4 = np.random.randint(0,2, (3,3))"
   ]
  },
  {
   "cell_type": "code",
   "execution_count": 6,
   "id": "8d311e8d-9e5f-4783-93d6-62a15d65ae61",
   "metadata": {},
   "outputs": [
    {
     "data": {
      "text/plain": [
       "array([[1, 0, 0],\n",
       "       [0, 0, 0],\n",
       "       [1, 1, 1]])"
      ]
     },
     "execution_count": 6,
     "metadata": {},
     "output_type": "execute_result"
    }
   ],
   "source": [
    "arr4"
   ]
  },
  {
   "cell_type": "markdown",
   "id": "0b59de68-ff71-419b-b135-6099bc61acc3",
   "metadata": {},
   "source": [
    "8. Describe the difference between np.random.rand and np.random.randn?"
   ]
  },
  {
   "cell_type": "markdown",
   "id": "e0b958d0-a925-41af-a63b-0d59cc60b0c9",
   "metadata": {},
   "source": [
    "np.random.rand generates numbers from a uniform distribution in the range [0, 1)\n",
    "and np.random.randn generates numbers from a normal distribution in the range [0,1) with mean of 0 and std of 1"
   ]
  },
  {
   "cell_type": "markdown",
   "id": "aeeae9df-c452-4c6d-bfa0-95f3173100f7",
   "metadata": {},
   "source": [
    " 9. Write code to increase the dimension of the following array?[[1, 2, 3, 4],[5, 6, 7, 8],[9, 10, 11, 12]]"
   ]
  },
  {
   "cell_type": "code",
   "execution_count": 13,
   "id": "2a6a9cce-5d4f-489f-b885-bfe73992dbed",
   "metadata": {},
   "outputs": [
    {
     "data": {
      "text/plain": [
       "array([[[ 1,  2,  3,  4],\n",
       "        [ 5,  6,  7,  8],\n",
       "        [ 9, 10, 11, 12]]])"
      ]
     },
     "execution_count": 13,
     "metadata": {},
     "output_type": "execute_result"
    }
   ],
   "source": [
    "# Solution 1\n",
    "arr5 = np.array([[1, 2, 3, 4],[5, 6, 7, 8],[9, 10, 11, 12]])\n",
    "np.expand_dims(arr5, axis = 0)"
   ]
  },
  {
   "cell_type": "code",
   "execution_count": 14,
   "id": "3d9c075c-ffa3-4fe2-b0c4-efedeff8a0a9",
   "metadata": {},
   "outputs": [
    {
     "data": {
      "text/plain": [
       "array([[[ 1,  2,  3],\n",
       "        [ 4,  5,  6]],\n",
       "\n",
       "       [[ 7,  8,  9],\n",
       "        [10, 11, 12]]])"
      ]
     },
     "execution_count": 14,
     "metadata": {},
     "output_type": "execute_result"
    }
   ],
   "source": [
    "# Solution 2\n",
    "np.reshape(arr5, (2,2,3))"
   ]
  },
  {
   "cell_type": "markdown",
   "id": "73f414ae-f86e-4207-88b2-9c8398ae1c57",
   "metadata": {},
   "source": [
    "10. How to transpose the following array in NumPy?\n",
    "[[1, 2, 3, 4],\n",
    "[5, 6, 7, 8],\n",
    "[9, 10, 11, 12]]"
   ]
  },
  {
   "cell_type": "code",
   "execution_count": 15,
   "id": "aecb6ef0-c907-4056-907b-c1fbefe78386",
   "metadata": {},
   "outputs": [
    {
     "data": {
      "text/plain": [
       "array([[ 1,  5,  9],\n",
       "       [ 2,  6, 10],\n",
       "       [ 3,  7, 11],\n",
       "       [ 4,  8, 12]])"
      ]
     },
     "execution_count": 15,
     "metadata": {},
     "output_type": "execute_result"
    }
   ],
   "source": [
    "arr6 = np.array([[1, 2, 3, 4], [5, 6, 7, 8], [9, 10, 11, 12]])\n",
    "arr6.T"
   ]
  },
  {
   "cell_type": "markdown",
   "id": "0c6de7a5-3473-46de-ae45-b1a61db59022",
   "metadata": {},
   "source": [
    "11. Consider the following matrix:\n",
    "Matrix A2 [[1, 2, 3, 4], [5, 6, 7, 8],[9, 10, 11, 12]]\n",
    "Matrix B2 [[1, 2, 3, 4], [5, 6, 7, 8],[9, 10, 11, 12]]"
   ]
  },
  {
   "cell_type": "code",
   "execution_count": 20,
   "id": "db2d7ad0-a4b3-46ce-8db7-449045c145fc",
   "metadata": {},
   "outputs": [],
   "source": [
    "A = np.array([[1, 2, 3, 4], [5, 6, 7, 8],[9, 10, 11, 12]])\n",
    "B = np.array([[1, 2, 3, 4], [5, 6, 7, 8],[9, 10, 11, 12]])\n",
    "\n"
   ]
  },
  {
   "cell_type": "code",
   "execution_count": 17,
   "id": "7152616b-b3f3-4bb6-b9a2-f40496e4e503",
   "metadata": {},
   "outputs": [],
   "source": [
    "# index wise multiplication"
   ]
  },
  {
   "cell_type": "code",
   "execution_count": 21,
   "id": "db857616-9701-4643-a827-319cdb19386d",
   "metadata": {},
   "outputs": [
    {
     "data": {
      "text/plain": [
       "array([[  1,   4,   9,  16],\n",
       "       [ 25,  36,  49,  64],\n",
       "       [ 81, 100, 121, 144]])"
      ]
     },
     "execution_count": 21,
     "metadata": {},
     "output_type": "execute_result"
    }
   ],
   "source": [
    "A * B"
   ]
  },
  {
   "cell_type": "code",
   "execution_count": 22,
   "id": "3306b328-80c3-4385-872a-e552be535ae0",
   "metadata": {},
   "outputs": [],
   "source": [
    "#  Matix multiplication"
   ]
  },
  {
   "cell_type": "code",
   "execution_count": 24,
   "id": "8beb39c9-8a6a-4416-8ea4-f42396644f43",
   "metadata": {},
   "outputs": [
    {
     "ename": "ValueError",
     "evalue": "matmul: Input operand 1 has a mismatch in its core dimension 0, with gufunc signature (n?,k),(k,m?)->(n?,m?) (size 3 is different from 4)",
     "output_type": "error",
     "traceback": [
      "\u001b[0;31m---------------------------------------------------------------------------\u001b[0m",
      "\u001b[0;31mValueError\u001b[0m                                Traceback (most recent call last)",
      "Cell \u001b[0;32mIn[24], line 1\u001b[0m\n\u001b[0;32m----> 1\u001b[0m \u001b[43mA\u001b[49m\u001b[43m \u001b[49m\u001b[38;5;241;43m@\u001b[39;49m\u001b[43m \u001b[49m\u001b[43mB\u001b[49m     \u001b[38;5;66;03m# not possible as A has shape(3,4) and B has shape(3,4)   \u001b[39;00m\n",
      "\u001b[0;31mValueError\u001b[0m: matmul: Input operand 1 has a mismatch in its core dimension 0, with gufunc signature (n?,k),(k,m?)->(n?,m?) (size 3 is different from 4)"
     ]
    }
   ],
   "source": [
    "A @ B     # not possible as A has shape(3,4) and B has shape(3,4)   "
   ]
  },
  {
   "cell_type": "code",
   "execution_count": 25,
   "id": "ae9f8cbb-9d9e-4eb5-be01-ac866c47bc71",
   "metadata": {},
   "outputs": [],
   "source": [
    "# Add both the matices"
   ]
  },
  {
   "cell_type": "code",
   "execution_count": 26,
   "id": "6009c63d-75ac-47ed-9a00-23e389d7e4ee",
   "metadata": {},
   "outputs": [
    {
     "data": {
      "text/plain": [
       "array([[ 2,  4,  6,  8],\n",
       "       [10, 12, 14, 16],\n",
       "       [18, 20, 22, 24]])"
      ]
     },
     "execution_count": 26,
     "metadata": {},
     "output_type": "execute_result"
    }
   ],
   "source": [
    "A + B"
   ]
  },
  {
   "cell_type": "code",
   "execution_count": 27,
   "id": "cbb02c62-0087-4fea-bef9-8b42aab87287",
   "metadata": {},
   "outputs": [],
   "source": [
    "# Subtact matix B from A"
   ]
  },
  {
   "cell_type": "code",
   "execution_count": 28,
   "id": "e39fd708-d270-4952-9357-61094831d48d",
   "metadata": {},
   "outputs": [
    {
     "data": {
      "text/plain": [
       "array([[0, 0, 0, 0],\n",
       "       [0, 0, 0, 0],\n",
       "       [0, 0, 0, 0]])"
      ]
     },
     "execution_count": 28,
     "metadata": {},
     "output_type": "execute_result"
    }
   ],
   "source": [
    "A - B"
   ]
  },
  {
   "cell_type": "code",
   "execution_count": 29,
   "id": "8e931641-7286-40ef-ada5-edff464b090d",
   "metadata": {},
   "outputs": [],
   "source": [
    "# Divide Matix B by A"
   ]
  },
  {
   "cell_type": "code",
   "execution_count": 30,
   "id": "c66c0074-2f53-497d-a29e-0f4cf4e8345d",
   "metadata": {},
   "outputs": [
    {
     "data": {
      "text/plain": [
       "array([[1., 1., 1., 1.],\n",
       "       [1., 1., 1., 1.],\n",
       "       [1., 1., 1., 1.]])"
      ]
     },
     "execution_count": 30,
     "metadata": {},
     "output_type": "execute_result"
    }
   ],
   "source": [
    "B / A"
   ]
  },
  {
   "cell_type": "markdown",
   "id": "5d68cb2e-a094-46cf-ace1-2dd72bc10912",
   "metadata": {},
   "source": [
    "12. Which function in Numpy can be used to swap the byte order of an array?"
   ]
  },
  {
   "cell_type": "markdown",
   "id": "586430e3-6b2d-4a39-bb62-676d40ec8f20",
   "metadata": {},
   "source": [
    "ndarray.byteswap()"
   ]
  },
  {
   "cell_type": "markdown",
   "id": "ee23230a-568a-45e6-9889-b12696c5039f",
   "metadata": {},
   "source": [
    "13. What is the significance of the np.linalg.inv function?"
   ]
  },
  {
   "cell_type": "markdown",
   "id": "fd0efcff-1ac0-43b2-9380-43a4e0df2c51",
   "metadata": {},
   "source": [
    "The np.linalg.inv function in Python's NumPy library is used to calculate the inverse of a matrix."
   ]
  },
  {
   "cell_type": "code",
   "execution_count": 54,
   "id": "6dda3825-425a-43cb-9bc5-2bca32c86d41",
   "metadata": {},
   "outputs": [
    {
     "name": "stdout",
     "output_type": "stream",
     "text": [
      "[[-1.125 -0.25   0.375]\n",
      " [ 0.875  0.5   -0.375]\n",
      " [ 0.125 -0.25   0.125]]\n"
     ]
    }
   ],
   "source": [
    "# if we multiply A and it's inverse, result will be an identity matrix only if inverse matrix exists\n",
    "arr = np.array([[1, 2, 3], [5, 6, 3],[9, 10, 11]])\n",
    "inv = np.linalg.inv(arr)\n",
    "print(inv)"
   ]
  },
  {
   "cell_type": "markdown",
   "id": "eebf45b5-e764-4dc9-9539-8eff38be8a6e",
   "metadata": {},
   "source": [
    "14. What does the np.reshape function do, and how is it used?"
   ]
  },
  {
   "cell_type": "markdown",
   "id": "55b9ec11-38f9-43e2-af88-831c86d61fe3",
   "metadata": {},
   "source": [
    "It is used to change the shape of the array without altering the size of the array"
   ]
  },
  {
   "cell_type": "code",
   "execution_count": 57,
   "id": "8cd6684b-eac8-46f7-939b-b096b6fea9e0",
   "metadata": {},
   "outputs": [
    {
     "name": "stdout",
     "output_type": "stream",
     "text": [
      "(2, 4)\n",
      "8\n"
     ]
    }
   ],
   "source": [
    "# example\n",
    "a = np.array( [[4,3,32,3],[32,4,2,3]])\n",
    "print(a.shape)\n",
    "print(a.size)"
   ]
  },
  {
   "cell_type": "code",
   "execution_count": 63,
   "id": "c5f332bd-127f-4527-9712-11ef82a84204",
   "metadata": {},
   "outputs": [
    {
     "name": "stdout",
     "output_type": "stream",
     "text": [
      "(2, 2, 2)\n",
      "8\n"
     ]
    }
   ],
   "source": [
    "a = a.reshape((2,2,2))\n",
    "print(a.shape)\n",
    "print(a.size)"
   ]
  },
  {
   "cell_type": "markdown",
   "id": "005bd567-5422-4b0d-b33f-63c22e997dbe",
   "metadata": {},
   "source": [
    "15. What is broadcasting in Numpy?"
   ]
  },
  {
   "cell_type": "markdown",
   "id": "11c7cd33-ff00-4e40-a6f7-3358cf252586",
   "metadata": {},
   "source": [
    "broadcasting refers to the ability to perform arithmetic operations on arrays of different shapes by aligning their dimensions"
   ]
  },
  {
   "cell_type": "code",
   "execution_count": 65,
   "id": "01840246-3cbd-4abb-90e6-02e5e7aef9ec",
   "metadata": {},
   "outputs": [
    {
     "data": {
      "text/plain": [
       "array([[0., 0., 0.],\n",
       "       [0., 0., 0.],\n",
       "       [0., 0., 0.]])"
      ]
     },
     "execution_count": 65,
     "metadata": {},
     "output_type": "execute_result"
    }
   ],
   "source": [
    "# example\n",
    "b = np.zeros((3,3))\n",
    "b\n"
   ]
  },
  {
   "cell_type": "code",
   "execution_count": 66,
   "id": "22638a32-b519-4ede-9203-b4a7790ae45a",
   "metadata": {},
   "outputs": [
    {
     "data": {
      "text/plain": [
       "array([[5., 5., 5.],\n",
       "       [5., 5., 5.],\n",
       "       [5., 5., 5.]])"
      ]
     },
     "execution_count": 66,
     "metadata": {},
     "output_type": "execute_result"
    }
   ],
   "source": [
    "b + 5"
   ]
  },
  {
   "cell_type": "code",
   "execution_count": null,
   "id": "e360c7d7-ca10-4907-8611-ac062dfc5f95",
   "metadata": {},
   "outputs": [],
   "source": []
  }
 ],
 "metadata": {
  "kernelspec": {
   "display_name": "Python 3 (ipykernel)",
   "language": "python",
   "name": "python3"
  },
  "language_info": {
   "codemirror_mode": {
    "name": "ipython",
    "version": 3
   },
   "file_extension": ".py",
   "mimetype": "text/x-python",
   "name": "python",
   "nbconvert_exporter": "python",
   "pygments_lexer": "ipython3",
   "version": "3.10.8"
  }
 },
 "nbformat": 4,
 "nbformat_minor": 5
}
